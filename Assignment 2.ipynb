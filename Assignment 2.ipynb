{
 "cells": [
  {
   "cell_type": "markdown",
   "id": "f4f207e8-e015-42f3-9ece-db9122097160",
   "metadata": {},
   "source": [
    "Q1. How do you comment code in Python? What are the different types of comments?\n"
   ]
  },
  {
   "cell_type": "markdown",
   "id": "a45ea7ec-28b5-4adc-a12f-2144f5abacdc",
   "metadata": {},
   "source": [
    "Python ignores comments and you can use them to write notes or remind yourself what code is trying to do.\n",
    "Any text for the rest of the line following a hash mark(#) is part of a comment.\n",
    "We can also use ''' ''' Quotation marks to write paragraphs of comments or text\n",
    "# This is comment used to describe the block of code"
   ]
  },
  {
   "cell_type": "code",
   "execution_count": 2,
   "id": "ba539839-32de-47fb-b8ae-fd95d8d6edff",
   "metadata": {},
   "outputs": [
    {
     "name": "stdout",
     "output_type": "stream",
     "text": [
      "Hello\n"
     ]
    },
    {
     "data": {
      "text/plain": [
       "'\\nHello my name is nishil\\n I am trying to Learn python \\n I think i will be pretty good in Python in Few days\\n'"
      ]
     },
     "execution_count": 2,
     "metadata": {},
     "output_type": "execute_result"
    }
   ],
   "source": [
    "\n",
    "print('Hello')\n",
    "#hii guys\n",
    "\"\"\"\n",
    "Hello my name is nishil\n",
    " I am trying to Learn python \n",
    " I think i will be pretty good in Python in Few days\n",
    "\"\"\""
   ]
  },
  {
   "cell_type": "markdown",
   "id": "683c15e8-59ef-45bf-9f93-b35f512b3f4c",
   "metadata": {},
   "source": [
    "Q2. What are variables in Python? How do you declare and assign values to variables?\n",
    "Ans : Variable is like a box in computer's memory where you can store a single value.\n",
    "To declare and assign values to a variable, an equal sign(called the assignment operator) and the value to be stored is used\n",
    " for example\n"
   ]
  },
  {
   "cell_type": "code",
   "execution_count": 3,
   "id": "ab7092d3-0d05-4f26-8b28-90a4efcbb489",
   "metadata": {},
   "outputs": [],
   "source": [
    "this_is_v = 23"
   ]
  },
  {
   "cell_type": "markdown",
   "id": "5d0cb8dd-81e2-4dfe-8391-bfac61d31c2c",
   "metadata": {},
   "source": [
    "Q3. How do you convert one data type to another in Python?\n"
   ]
  },
  {
   "cell_type": "code",
   "execution_count": 11,
   "id": "353797f6-3b9c-4fc9-bcbc-8068635d0a7f",
   "metadata": {},
   "outputs": [
    {
     "name": "stdout",
     "output_type": "stream",
     "text": [
      "c\n"
     ]
    },
    {
     "name": "stdin",
     "output_type": "stream",
     "text": [
      "enter a number 12\n",
      "enter a number 12\n"
     ]
    }
   ],
   "source": [
    "#there are two ways of datatype conversion\n",
    "a=12\n",
    "b=2.34\n",
    "c=a+b\n",
    "print('c')\n",
    "type(c)\n",
    "\n",
    "#second way of datatype conversion is\n",
    "d = int(input(\"enter a number\"))\n",
    "e = input(\"enter a number\")"
   ]
  },
  {
   "cell_type": "code",
   "execution_count": 10,
   "id": "60196574-866d-4649-b5a3-cd222b72f1fb",
   "metadata": {},
   "outputs": [
    {
     "data": {
      "text/plain": [
       "int"
      ]
     },
     "execution_count": 10,
     "metadata": {},
     "output_type": "execute_result"
    }
   ],
   "source": [
    "type(d)"
   ]
  },
  {
   "cell_type": "code",
   "execution_count": 12,
   "id": "bd71a9c7-0002-4ae0-ac87-8ee2b0b94aaa",
   "metadata": {},
   "outputs": [
    {
     "data": {
      "text/plain": [
       "str"
      ]
     },
     "execution_count": 12,
     "metadata": {},
     "output_type": "execute_result"
    }
   ],
   "source": [
    "type(e)"
   ]
  },
  {
   "cell_type": "code",
   "execution_count": 13,
   "id": "d686b002-199a-4d60-8821-f97ddb436b1c",
   "metadata": {},
   "outputs": [],
   "source": [
    "#Here we convert a string value to a integer value"
   ]
  },
  {
   "cell_type": "markdown",
   "id": "e768e8f8-3dc3-491c-baff-e49b7a41cdd9",
   "metadata": {},
   "source": [
    "Q4. How do you write and execute a Python script from the command line?\n"
   ]
  },
  {
   "cell_type": "markdown",
   "id": "ceaf37fd-7b4e-4da8-b02f-68aad35dd9a3",
   "metadata": {},
   "source": [
    "First open command line and type python then,\n",
    "it will show you your python version \n",
    "then you can run python scripts such as print(\"hello\")\n",
    "and you will get output"
   ]
  },
  {
   "cell_type": "markdown",
   "id": "70cbc58c-3874-4127-864a-cfd905236f32",
   "metadata": {},
   "source": [
    "Q5. Given a list my_list = [1, 2, 3, 4, 5], write the code to slice the list and obtain the sub-list [2, 3].\n"
   ]
  },
  {
   "cell_type": "code",
   "execution_count": 16,
   "id": "e2bdec05-8af5-49f9-bf58-e11640deb19f",
   "metadata": {},
   "outputs": [
    {
     "data": {
      "text/plain": [
       "[2, 3]"
      ]
     },
     "execution_count": 16,
     "metadata": {},
     "output_type": "execute_result"
    }
   ],
   "source": [
    "my_list = [1, 2, 3, 4, 5]\n",
    "my_list[1:3]"
   ]
  },
  {
   "cell_type": "markdown",
   "id": "0b06f0ee-0c8c-43ed-bce7-76e5679fe673",
   "metadata": {},
   "source": [
    "Q6. What is a complex number in mathematics, and how is it represented in Python?\n"
   ]
  },
  {
   "cell_type": "markdown",
   "id": "d59a9f81-f004-4859-9fd8-e89c6832dfbe",
   "metadata": {},
   "source": [
    "Complex numbers are the numbers that are expressed in the form of c+id where, c,d are real numbers and 'i' is an imaginary number called “iota”. The value of i = (√-1). For example, 2+3i is a complex number, where 2 is a real number (Re) and 3i is an imaginary number\n",
    "\n",
    "In python x +yj here x,y are real numbers and here imaginary is denoted by j whis square root of -1"
   ]
  },
  {
   "cell_type": "markdown",
   "id": "6f09eff9-dd9e-465f-a591-ece5c9a85ead",
   "metadata": {},
   "source": [
    "Q7. What is the correct way to declare a variable named age and assign the value 25 to it?\n"
   ]
  },
  {
   "cell_type": "code",
   "execution_count": 17,
   "id": "e83d310d-8e3c-47fd-aa34-49c4256798fe",
   "metadata": {},
   "outputs": [],
   "source": [
    "age = 25"
   ]
  },
  {
   "cell_type": "code",
   "execution_count": 18,
   "id": "51cbfe66-2d3e-4db7-b948-2f33efcbaf29",
   "metadata": {},
   "outputs": [
    {
     "data": {
      "text/plain": [
       "25"
      ]
     },
     "execution_count": 18,
     "metadata": {},
     "output_type": "execute_result"
    }
   ],
   "source": [
    "age"
   ]
  },
  {
   "cell_type": "markdown",
   "id": "b3f945bb-7416-4ca9-b352-70e2002ab6bf",
   "metadata": {},
   "source": [
    "Q8. Declare a variable named price and assign the value 9.99 to it. What data type does this variable \n",
    "belong to?"
   ]
  },
  {
   "cell_type": "code",
   "execution_count": 19,
   "id": "4938b47e-4229-43cc-a6a7-a4398fdb3909",
   "metadata": {},
   "outputs": [
    {
     "data": {
      "text/plain": [
       "float"
      ]
     },
     "execution_count": 19,
     "metadata": {},
     "output_type": "execute_result"
    }
   ],
   "source": [
    "price = 9.99\n",
    "type(price)"
   ]
  },
  {
   "cell_type": "markdown",
   "id": "058d4506-ac46-4536-aff8-33e2b8face81",
   "metadata": {},
   "source": [
    "Q9. Create a variable named name and assign your full name to it as a string. How would you print the \n",
    "value of this variable?"
   ]
  },
  {
   "cell_type": "code",
   "execution_count": 20,
   "id": "d5317c64-adb5-4bf1-9698-14415cfbb1ae",
   "metadata": {},
   "outputs": [
    {
     "name": "stdout",
     "output_type": "stream",
     "text": [
      "Nishil Ramdas Gawde\n"
     ]
    }
   ],
   "source": [
    "name = \"Nishil Ramdas Gawde\"\n",
    "print(name)"
   ]
  },
  {
   "cell_type": "markdown",
   "id": "ecf4acc7-3bea-4a82-98db-6072134beb22",
   "metadata": {},
   "source": [
    "Q10. Given the string \"Hello, World!\", extract the substring \"World\".\n"
   ]
  },
  {
   "cell_type": "code",
   "execution_count": 23,
   "id": "dd4dfc2f-0991-4cda-8f4f-2d1f0c5808c2",
   "metadata": {},
   "outputs": [
    {
     "data": {
      "text/plain": [
       "'World'"
      ]
     },
     "execution_count": 23,
     "metadata": {},
     "output_type": "execute_result"
    }
   ],
   "source": [
    "h = \"Hello World\"\n",
    "h[6:11]"
   ]
  },
  {
   "cell_type": "markdown",
   "id": "f02ce584-2c87-4cb6-839f-a38038886158",
   "metadata": {},
   "source": [
    "Q11. Create a variable named \"is_student\" and assign it a boolean value indicating whether you are \n",
    "currently a student or not."
   ]
  },
  {
   "cell_type": "code",
   "execution_count": 31,
   "id": "8c94d629-4003-4310-9515-e8ecd2eabe3c",
   "metadata": {},
   "outputs": [
    {
     "name": "stdin",
     "output_type": "stream",
     "text": [
      " False\n"
     ]
    },
    {
     "name": "stdout",
     "output_type": "stream",
     "text": [
      " you are a student \n"
     ]
    }
   ],
   "source": [
    "is_student = bool(input())\n",
    "if is_student == True :\n",
    " print(' you are a student ')\n",
    "else :  \n",
    " print('you are not a student')\n"
   ]
  },
  {
   "cell_type": "code",
   "execution_count": null,
   "id": "abe13193-3e4b-4e0b-bcbd-ae383d328c4a",
   "metadata": {},
   "outputs": [],
   "source": []
  }
 ],
 "metadata": {
  "kernelspec": {
   "display_name": "Python 3 (ipykernel)",
   "language": "python",
   "name": "python3"
  },
  "language_info": {
   "codemirror_mode": {
    "name": "ipython",
    "version": 3
   },
   "file_extension": ".py",
   "mimetype": "text/x-python",
   "name": "python",
   "nbconvert_exporter": "python",
   "pygments_lexer": "ipython3",
   "version": "3.10.8"
  }
 },
 "nbformat": 4,
 "nbformat_minor": 5
}
